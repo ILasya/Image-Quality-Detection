{
 "cells": [
  {
   "cell_type": "code",
   "execution_count": 1,
   "metadata": {
    "colab": {
     "autoexec": {
      "startup": false,
      "wait_interval": 0
     }
    },
    "colab_type": "code",
    "id": "bcEANBds331f"
   },
   "outputs": [
    {
     "name": "stderr",
     "output_type": "stream",
     "text": [
      "Using TensorFlow backend.\n",
      "C:\\Users\\LASYA\\Anaconda3\\lib\\site-packages\\tensorflow\\python\\framework\\dtypes.py:516: FutureWarning: Passing (type, 1) or '1type' as a synonym of type is deprecated; in a future version of numpy, it will be understood as (type, (1,)) / '(1,)type'.\n",
      "  _np_qint8 = np.dtype([(\"qint8\", np.int8, 1)])\n",
      "C:\\Users\\LASYA\\Anaconda3\\lib\\site-packages\\tensorflow\\python\\framework\\dtypes.py:517: FutureWarning: Passing (type, 1) or '1type' as a synonym of type is deprecated; in a future version of numpy, it will be understood as (type, (1,)) / '(1,)type'.\n",
      "  _np_quint8 = np.dtype([(\"quint8\", np.uint8, 1)])\n",
      "C:\\Users\\LASYA\\Anaconda3\\lib\\site-packages\\tensorflow\\python\\framework\\dtypes.py:518: FutureWarning: Passing (type, 1) or '1type' as a synonym of type is deprecated; in a future version of numpy, it will be understood as (type, (1,)) / '(1,)type'.\n",
      "  _np_qint16 = np.dtype([(\"qint16\", np.int16, 1)])\n",
      "C:\\Users\\LASYA\\Anaconda3\\lib\\site-packages\\tensorflow\\python\\framework\\dtypes.py:519: FutureWarning: Passing (type, 1) or '1type' as a synonym of type is deprecated; in a future version of numpy, it will be understood as (type, (1,)) / '(1,)type'.\n",
      "  _np_quint16 = np.dtype([(\"quint16\", np.uint16, 1)])\n",
      "C:\\Users\\LASYA\\Anaconda3\\lib\\site-packages\\tensorflow\\python\\framework\\dtypes.py:520: FutureWarning: Passing (type, 1) or '1type' as a synonym of type is deprecated; in a future version of numpy, it will be understood as (type, (1,)) / '(1,)type'.\n",
      "  _np_qint32 = np.dtype([(\"qint32\", np.int32, 1)])\n",
      "C:\\Users\\LASYA\\Anaconda3\\lib\\site-packages\\tensorflow\\python\\framework\\dtypes.py:525: FutureWarning: Passing (type, 1) or '1type' as a synonym of type is deprecated; in a future version of numpy, it will be understood as (type, (1,)) / '(1,)type'.\n",
      "  np_resource = np.dtype([(\"resource\", np.ubyte, 1)])\n",
      "C:\\Users\\LASYA\\Anaconda3\\lib\\site-packages\\tensorboard\\compat\\tensorflow_stub\\dtypes.py:541: FutureWarning: Passing (type, 1) or '1type' as a synonym of type is deprecated; in a future version of numpy, it will be understood as (type, (1,)) / '(1,)type'.\n",
      "  _np_qint8 = np.dtype([(\"qint8\", np.int8, 1)])\n",
      "C:\\Users\\LASYA\\Anaconda3\\lib\\site-packages\\tensorboard\\compat\\tensorflow_stub\\dtypes.py:542: FutureWarning: Passing (type, 1) or '1type' as a synonym of type is deprecated; in a future version of numpy, it will be understood as (type, (1,)) / '(1,)type'.\n",
      "  _np_quint8 = np.dtype([(\"quint8\", np.uint8, 1)])\n",
      "C:\\Users\\LASYA\\Anaconda3\\lib\\site-packages\\tensorboard\\compat\\tensorflow_stub\\dtypes.py:543: FutureWarning: Passing (type, 1) or '1type' as a synonym of type is deprecated; in a future version of numpy, it will be understood as (type, (1,)) / '(1,)type'.\n",
      "  _np_qint16 = np.dtype([(\"qint16\", np.int16, 1)])\n",
      "C:\\Users\\LASYA\\Anaconda3\\lib\\site-packages\\tensorboard\\compat\\tensorflow_stub\\dtypes.py:544: FutureWarning: Passing (type, 1) or '1type' as a synonym of type is deprecated; in a future version of numpy, it will be understood as (type, (1,)) / '(1,)type'.\n",
      "  _np_quint16 = np.dtype([(\"quint16\", np.uint16, 1)])\n",
      "C:\\Users\\LASYA\\Anaconda3\\lib\\site-packages\\tensorboard\\compat\\tensorflow_stub\\dtypes.py:545: FutureWarning: Passing (type, 1) or '1type' as a synonym of type is deprecated; in a future version of numpy, it will be understood as (type, (1,)) / '(1,)type'.\n",
      "  _np_qint32 = np.dtype([(\"qint32\", np.int32, 1)])\n",
      "C:\\Users\\LASYA\\Anaconda3\\lib\\site-packages\\tensorboard\\compat\\tensorflow_stub\\dtypes.py:550: FutureWarning: Passing (type, 1) or '1type' as a synonym of type is deprecated; in a future version of numpy, it will be understood as (type, (1,)) / '(1,)type'.\n",
      "  np_resource = np.dtype([(\"resource\", np.ubyte, 1)])\n"
     ]
    }
   ],
   "source": [
    "# Import all necessary libraries\n",
    "import numpy as np\n",
    "import pandas as pd\n",
    "import pickle\n",
    "\n",
    "from keras.models import Sequential\n",
    "from keras.layers.convolutional import Convolution2D\n",
    "from keras.layers.pooling import MaxPooling2D\n",
    "from keras.layers.core import Flatten, Dense, Activation, Dropout\n",
    "from keras.preprocessing import image\n",
    "from keras.utils.np_utils import to_categorical\n",
    "\n",
    "from sklearn.model_selection import train_test_split"
   ]
  },
  {
   "cell_type": "code",
   "execution_count": 2,
   "metadata": {
    "colab": {
     "autoexec": {
      "startup": false,
      "wait_interval": 0
     }
    },
    "colab_type": "code",
    "id": "E9L-jPgLHzug"
   },
   "outputs": [],
   "source": [
    "# Loading the pickle files that were saved during Pre-Processing\n",
    "x=pickle.load(open('X.pkl','rb'))\n",
    "y=pickle.load(open('Y.pkl','rb'))"
   ]
  },
  {
   "cell_type": "code",
   "execution_count": 3,
   "metadata": {
    "colab": {
     "autoexec": {
      "startup": false,
      "wait_interval": 0
     },
     "base_uri": "https://localhost:8080/",
     "height": 122
    },
    "colab_type": "code",
    "executionInfo": {
     "elapsed": 1089,
     "status": "ok",
     "timestamp": 1525537935320,
     "user": {
      "displayName": "anubhav bhargava",
      "photoUrl": "https://lh3.googleusercontent.com/a/default-user=s128",
      "userId": "104624065741949551666"
     },
     "user_tz": -330
    },
    "id": "SUxfs5w1IY9t",
    "outputId": "3789ff27-8220-45bb-9650-da9cd493dc84"
   },
   "outputs": [
    {
     "name": "stdout",
     "output_type": "stream",
     "text": [
      "WARNING:tensorflow:From C:\\Users\\LASYA\\Anaconda3\\lib\\site-packages\\keras\\backend\\tensorflow_backend.py:4070: The name tf.nn.max_pool is deprecated. Please use tf.nn.max_pool2d instead.\n",
      "\n"
     ]
    }
   ],
   "source": [
    "# Model Building\n",
    "model = Sequential()\n",
    "\n",
    "# Layer 1\n",
    "model.add(Convolution2D(32, (5, 5), input_shape=(192, 192, 3), activation='relu'))\n",
    "model.add(MaxPooling2D(pool_size=(2, 2), padding='same'))\n",
    "\n",
    "# Layer 2\n",
    "model.add(Convolution2D(32, (5, 5),activation='relu'))\n",
    "model.add(MaxPooling2D(pool_size=(2, 2), padding='same'))    \n",
    "\n",
    "model.add(Dropout(0.25))\n",
    "\n",
    "# Layer 3\n",
    "model.add(Convolution2D(64, (5, 5), activation='relu'))\n",
    "model.add(MaxPooling2D(pool_size=(2, 2)))    \n",
    "model.add(Flatten())\n",
    "\n",
    "# Layer 4\n",
    "model.add(Dense(1024, activation='relu'))\n",
    "model.add(Dropout(0.5))\n",
    "\n",
    "# Layer 5\n",
    "model.add(Dense(512, activation='relu'))\n",
    "model.add(Dropout(0.5))\n",
    "\n",
    "# Layer 6\n",
    "model.add(Dense(2, activation=\"softmax\"))"
   ]
  },
  {
   "cell_type": "code",
   "execution_count": 4,
   "metadata": {
    "colab": {
     "autoexec": {
      "startup": false,
      "wait_interval": 0
     }
    },
    "colab_type": "code",
    "id": "9FR4Hm1NIsKX"
   },
   "outputs": [],
   "source": [
    "# Compile the model using Adam Optimizer and Binary Corss-Entropy loss function\n",
    "model.compile(optimizer='adam', loss='binary_crossentropy', metrics=['accuracy'])"
   ]
  },
  {
   "cell_type": "code",
   "execution_count": 5,
   "metadata": {
    "colab": {
     "autoexec": {
      "startup": false,
      "wait_interval": 0
     }
    },
    "colab_type": "code",
    "id": "zQkoVaGFIuTd"
   },
   "outputs": [],
   "source": [
    "#Normalize images\n",
    "X_stacked = np.stack(x)\n",
    "X_norm = X_stacked/255.\n",
    "\n",
    "#Converting target variable labels to categorical values\n",
    "y_cat = to_categorical(y)"
   ]
  },
  {
   "cell_type": "code",
   "execution_count": 6,
   "metadata": {
    "colab": {
     "autoexec": {
      "startup": false,
      "wait_interval": 0
     }
    },
    "colab_type": "code",
    "id": "ntO3vFDlIyD5"
   },
   "outputs": [],
   "source": [
    "#Splitting into training and testing data\n",
    "X_train, X_test, y_train, y_test = train_test_split(X_norm, y_cat, test_size=0.2)"
   ]
  },
  {
   "cell_type": "code",
   "execution_count": 7,
   "metadata": {
    "colab": {
     "autoexec": {
      "startup": false,
      "wait_interval": 0
     },
     "base_uri": "https://localhost:8080/",
     "height": 1142
    },
    "colab_type": "code",
    "executionInfo": {
     "elapsed": 728120,
     "status": "ok",
     "timestamp": 1525538671591,
     "user": {
      "displayName": "anubhav bhargava",
      "photoUrl": "https://lh3.googleusercontent.com/a/default-user=s128",
      "userId": "104624065741949551666"
     },
     "user_tz": -330
    },
    "id": "dtGD7I-3I08b",
    "outputId": "f63874b1-13d7-4197-f650-4150ac78fa81"
   },
   "outputs": [
    {
     "name": "stdout",
     "output_type": "stream",
     "text": [
      "WARNING:tensorflow:From C:\\Users\\LASYA\\Anaconda3\\lib\\site-packages\\tensorflow\\python\\ops\\math_grad.py:1250: add_dispatch_support.<locals>.wrapper (from tensorflow.python.ops.array_ops) is deprecated and will be removed in a future version.\n",
      "Instructions for updating:\n",
      "Use tf.where in 2.0, which has the same broadcast rule as np.where\n",
      "WARNING:tensorflow:From C:\\Users\\LASYA\\Anaconda3\\lib\\site-packages\\keras\\backend\\tensorflow_backend.py:422: The name tf.global_variables is deprecated. Please use tf.compat.v1.global_variables instead.\n",
      "\n",
      "Epoch 1/30\n",
      "920/920 [==============================] - 210s 229ms/step - loss: 0.7143 - accuracy: 0.5261\n",
      "Epoch 2/30\n",
      "920/920 [==============================] - 201s 218ms/step - loss: 0.7117 - accuracy: 0.5413\n",
      "Epoch 3/30\n",
      "920/920 [==============================] - 200s 217ms/step - loss: 0.6925 - accuracy: 0.5424\n",
      "Epoch 4/30\n",
      "920/920 [==============================] - 203s 221ms/step - loss: 0.6914 - accuracy: 0.5435\n",
      "Epoch 5/30\n",
      "920/920 [==============================] - 204s 222ms/step - loss: 0.6898 - accuracy: 0.5217\n",
      "Epoch 6/30\n",
      "920/920 [==============================] - 201s 218ms/step - loss: 0.6914 - accuracy: 0.5413\n",
      "Epoch 7/30\n",
      "920/920 [==============================] - 193s 210ms/step - loss: 0.6893 - accuracy: 0.5402\n",
      "Epoch 8/30\n",
      "920/920 [==============================] - 194s 211ms/step - loss: 0.7440 - accuracy: 0.5261\n",
      "Epoch 9/30\n",
      "920/920 [==============================] - 198s 215ms/step - loss: 0.6914 - accuracy: 0.5402\n",
      "Epoch 10/30\n",
      "920/920 [==============================] - 205s 223ms/step - loss: 0.6918 - accuracy: 0.5467\n",
      "Epoch 11/30\n",
      "920/920 [==============================] - 205s 222ms/step - loss: 0.6907 - accuracy: 0.5446\n",
      "Epoch 12/30\n",
      "920/920 [==============================] - 207s 225ms/step - loss: 0.6906 - accuracy: 0.5424\n",
      "Epoch 13/30\n",
      "920/920 [==============================] - 194s 211ms/step - loss: 0.7043 - accuracy: 0.5489\n",
      "Epoch 14/30\n",
      "920/920 [==============================] - 194s 211ms/step - loss: 0.6925 - accuracy: 0.5228\n",
      "Epoch 15/30\n",
      "920/920 [==============================] - 193s 210ms/step - loss: 0.6893 - accuracy: 0.5293\n",
      "Epoch 16/30\n",
      "920/920 [==============================] - 194s 211ms/step - loss: 0.6920 - accuracy: 0.5348\n",
      "Epoch 17/30\n",
      "920/920 [==============================] - 197s 214ms/step - loss: 0.6915 - accuracy: 0.5413\n",
      "Epoch 18/30\n",
      "920/920 [==============================] - 197s 214ms/step - loss: 0.6925 - accuracy: 0.5424\n",
      "Epoch 19/30\n",
      "920/920 [==============================] - 193s 210ms/step - loss: 0.6916 - accuracy: 0.5457\n",
      "Epoch 20/30\n",
      "920/920 [==============================] - 193s 210ms/step - loss: 0.6901 - accuracy: 0.5446\n",
      "Epoch 21/30\n",
      "920/920 [==============================] - 193s 210ms/step - loss: 0.6898 - accuracy: 0.5543\n",
      "Epoch 22/30\n",
      "920/920 [==============================] - 196s 213ms/step - loss: 0.6906 - accuracy: 0.5446\n",
      "Epoch 23/30\n",
      "920/920 [==============================] - 194s 211ms/step - loss: 0.6909 - accuracy: 0.5424\n",
      "Epoch 24/30\n",
      "920/920 [==============================] - 193s 210ms/step - loss: 0.6914 - accuracy: 0.5435\n",
      "Epoch 25/30\n",
      "920/920 [==============================] - 195s 212ms/step - loss: 0.6905 - accuracy: 0.5435\n",
      "Epoch 26/30\n",
      "920/920 [==============================] - 193s 209ms/step - loss: 0.6904 - accuracy: 0.5435\n",
      "Epoch 27/30\n",
      "920/920 [==============================] - 193s 210ms/step - loss: 0.6907 - accuracy: 0.5435\n",
      "Epoch 28/30\n",
      "920/920 [==============================] - 193s 210ms/step - loss: 0.6903 - accuracy: 0.5435\n",
      "Epoch 29/30\n",
      "920/920 [==============================] - 195s 211ms/step - loss: 0.6899 - accuracy: 0.5435\n",
      "Epoch 30/30\n",
      "920/920 [==============================] - 194s 210ms/step - loss: 0.6899 - accuracy: 0.5435\n"
     ]
    },
    {
     "data": {
      "text/plain": [
       "<keras.callbacks.callbacks.History at 0x20e37b81648>"
      ]
     },
     "execution_count": 7,
     "metadata": {},
     "output_type": "execute_result"
    }
   ],
   "source": [
    "# Fitting the Model\n",
    "model.fit(X_train,y_train,epochs=30,batch_size=5)"
   ]
  },
  {
   "cell_type": "code",
   "execution_count": 8,
   "metadata": {
    "colab": {
     "autoexec": {
      "startup": false,
      "wait_interval": 0
     }
    },
    "colab_type": "code",
    "id": "EkVfkGAwI7Gg"
   },
   "outputs": [],
   "source": [
    "# Save the derived weights as a H5 file\n",
    "model.save_weights('model_weights.h5')"
   ]
  }
 ],
 "metadata": {
  "accelerator": "GPU",
  "colab": {
   "collapsed_sections": [],
   "default_view": {},
   "name": "ImageBlur.ipynb",
   "provenance": [],
   "version": "0.3.2",
   "views": {}
  },
  "kernelspec": {
   "display_name": "Python 3",
   "language": "python",
   "name": "python3"
  },
  "language_info": {
   "codemirror_mode": {
    "name": "ipython",
    "version": 3
   },
   "file_extension": ".py",
   "mimetype": "text/x-python",
   "name": "python",
   "nbconvert_exporter": "python",
   "pygments_lexer": "ipython3",
   "version": "3.7.7"
  }
 },
 "nbformat": 4,
 "nbformat_minor": 1
}
